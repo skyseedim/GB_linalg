{
 "cells": [
  {
   "cell_type": "markdown",
   "id": "bed8913b",
   "metadata": {},
   "source": [
    "# Практические задания к лекции № 4 часть 2"
   ]
  },
  {
   "cell_type": "code",
   "execution_count": 1,
   "id": "f81dcaae",
   "metadata": {},
   "outputs": [],
   "source": [
    "import numpy as np"
   ]
  },
  {
   "cell_type": "markdown",
   "id": "2223ce67",
   "metadata": {},
   "source": [
    "__1.__ Решить систему уравнений методом Крамера:\n",
    "\n",
    "   а) $\\begin{cases}\n",
    "x_{1}-2x_{2}=1 \\\\\n",
    "3x_{1}-4x_{2}=7\n",
    "\\end{cases}$\n",
    "    \n",
    "   б) $\\begin{cases}\n",
    "2x_{1}-x_{2}+5x_{3}=10 \\\\\n",
    "x_{1}+x_{2}-3x_{3}=-2 \\\\\n",
    "2x_{1}+4x_{2}+x_{3}=1\n",
    "\\end{cases}$"
   ]
  },
  {
   "cell_type": "markdown",
   "id": "a4eeb5fb",
   "metadata": {},
   "source": [
    "**Решение:**    \n",
    "a)"
   ]
  },
  {
   "cell_type": "code",
   "execution_count": 2,
   "id": "10075532",
   "metadata": {},
   "outputs": [
    {
     "name": "stdout",
     "output_type": "stream",
     "text": [
      "Определитель:\n",
      "2\n"
     ]
    }
   ],
   "source": [
    "a = np.array([[1, -2], [3, -4]])\n",
    "print(f'Определитель:\\n{np.linalg.det(a):.0f}')"
   ]
  },
  {
   "cell_type": "markdown",
   "id": "1f665f91",
   "metadata": {},
   "source": [
    "Следовательно, система совместна.\n",
    "\n",
    "Найдем определители $detA_{1}$, $detA_{2}$:"
   ]
  },
  {
   "cell_type": "code",
   "execution_count": 3,
   "id": "eab09630",
   "metadata": {},
   "outputs": [
    {
     "name": "stdout",
     "output_type": "stream",
     "text": [
      "Определитель:\n",
      "10\n"
     ]
    }
   ],
   "source": [
    "a_1 = np.array([[1, -2], [7, -4]])\n",
    "print(f'Определитель:\\n{np.linalg.det(a_1):.0f}')"
   ]
  },
  {
   "cell_type": "code",
   "execution_count": 4,
   "id": "39079337",
   "metadata": {},
   "outputs": [
    {
     "name": "stdout",
     "output_type": "stream",
     "text": [
      "Определитель:\n",
      "4\n"
     ]
    }
   ],
   "source": [
    "a_2 = np.array([[1, 1], [3, 7]])\n",
    "print(f'Определитель:\\n{np.linalg.det(a_2):.0f}')"
   ]
  },
  {
   "cell_type": "markdown",
   "id": "45643016",
   "metadata": {},
   "source": [
    "Найдем решение по формулам Крамера:"
   ]
  },
  {
   "cell_type": "code",
   "execution_count": 5,
   "id": "673f6abd",
   "metadata": {},
   "outputs": [
    {
     "data": {
      "text/plain": [
       "5.0"
      ]
     },
     "execution_count": 5,
     "metadata": {},
     "output_type": "execute_result"
    }
   ],
   "source": [
    "x_1 = 10 / 2\n",
    "x_1"
   ]
  },
  {
   "cell_type": "code",
   "execution_count": 6,
   "id": "daa0bb61",
   "metadata": {},
   "outputs": [
    {
     "data": {
      "text/plain": [
       "2.0"
      ]
     },
     "execution_count": 6,
     "metadata": {},
     "output_type": "execute_result"
    }
   ],
   "source": [
    "x_2 = 4 / 2\n",
    "x_2"
   ]
  },
  {
   "cell_type": "markdown",
   "id": "391e8d5f",
   "metadata": {},
   "source": [
    "**Ответ:**\n",
    "$$x_{1} = 5,$$\n",
    "\n",
    "$$x_{2} = 2.$$"
   ]
  },
  {
   "cell_type": "markdown",
   "id": "aa8ba9a9",
   "metadata": {},
   "source": [
    "б) $\\begin{cases}\n",
    "2x_{1}-x_{2}+5x_{3}=10 \\\\\n",
    "x_{1}+x_{2}-3x_{3}=-2 \\\\\n",
    "2x_{1}+4x_{2}+x_{3}=1\n",
    "\\end{cases}$"
   ]
  },
  {
   "cell_type": "code",
   "execution_count": 7,
   "id": "504094b5",
   "metadata": {},
   "outputs": [
    {
     "name": "stdout",
     "output_type": "stream",
     "text": [
      "Определитель:\n",
      "43\n"
     ]
    }
   ],
   "source": [
    "a = np.array([[2, -1, 5], [1, 1, -3], [2, 4, 1]])\n",
    "print(f'Определитель:\\n{np.linalg.det(a):.0f}')"
   ]
  },
  {
   "cell_type": "markdown",
   "id": "a020931e",
   "metadata": {},
   "source": [
    "Следовательно, система совместна.\n",
    "\n",
    "Найдем определители $detA_{1}$, $detA_{2}$, $detA_{3}$:"
   ]
  },
  {
   "cell_type": "code",
   "execution_count": 8,
   "id": "aec1e8ff",
   "metadata": {},
   "outputs": [
    {
     "name": "stdout",
     "output_type": "stream",
     "text": [
      "Определитель:\n",
      "86\n"
     ]
    }
   ],
   "source": [
    "a_1 = np.array([[10, -1, 5], [-2, 1, -3], [1, 4, 1]])\n",
    "print(f'Определитель:\\n{np.linalg.det(a_1):.0f}')"
   ]
  },
  {
   "cell_type": "code",
   "execution_count": 9,
   "id": "6f9b2545",
   "metadata": {},
   "outputs": [
    {
     "name": "stdout",
     "output_type": "stream",
     "text": [
      "Определитель:\n",
      "-43\n"
     ]
    }
   ],
   "source": [
    "a_2 = np.array([[2, 10, 5], [1, -2, -3], [2, 1, 1]])\n",
    "print(f'Определитель:\\n{np.linalg.det(a_2):.0f}')"
   ]
  },
  {
   "cell_type": "code",
   "execution_count": 10,
   "id": "ee44c599",
   "metadata": {
    "scrolled": true
   },
   "outputs": [
    {
     "name": "stdout",
     "output_type": "stream",
     "text": [
      "Определитель:\n",
      "43\n"
     ]
    }
   ],
   "source": [
    "a_3 = np.array([[2, -1, 10], [1, 1, -2], [2, 4, 1]])\n",
    "print(f'Определитель:\\n{np.linalg.det(a_3):.0f}')"
   ]
  },
  {
   "cell_type": "markdown",
   "id": "58d6d842",
   "metadata": {},
   "source": [
    "Найдем решение по формулам Крамера:"
   ]
  },
  {
   "cell_type": "code",
   "execution_count": 11,
   "id": "785690c8",
   "metadata": {},
   "outputs": [
    {
     "data": {
      "text/plain": [
       "2.0"
      ]
     },
     "execution_count": 11,
     "metadata": {},
     "output_type": "execute_result"
    }
   ],
   "source": [
    "x_1 = 86 / 43\n",
    "x_1"
   ]
  },
  {
   "cell_type": "code",
   "execution_count": 12,
   "id": "90f01eee",
   "metadata": {},
   "outputs": [
    {
     "data": {
      "text/plain": [
       "-1.0"
      ]
     },
     "execution_count": 12,
     "metadata": {},
     "output_type": "execute_result"
    }
   ],
   "source": [
    "x_2 = -43 / 43\n",
    "x_2"
   ]
  },
  {
   "cell_type": "code",
   "execution_count": 13,
   "id": "8c14b74c",
   "metadata": {},
   "outputs": [
    {
     "data": {
      "text/plain": [
       "1.0"
      ]
     },
     "execution_count": 13,
     "metadata": {},
     "output_type": "execute_result"
    }
   ],
   "source": [
    "x_3 = 43 / 43\n",
    "x_3"
   ]
  },
  {
   "cell_type": "markdown",
   "id": "acdff5a2",
   "metadata": {},
   "source": [
    "**Ответ:**\n",
    "$$x_{1} = 2,$$\n",
    "\n",
    "$$x_{2} = -1,$$\n",
    "\n",
    "$$x_{3} = 1.$$"
   ]
  },
  {
   "cell_type": "markdown",
   "id": "37c29b41",
   "metadata": {},
   "source": [
    "__2*.__ Найти $L$-матрицу $LU$-разложения для матрицы коэффициентов:\n",
    "\n",
    "   а)$$\\begin{pmatrix}\n",
    "1 & 2 & 4 \\\\ \n",
    "2 & 9 & 12 \\\\ \n",
    "3 & 26 & 30\n",
    "\\end{pmatrix}$$\n",
    "    \n",
    "   б)$$\\begin{pmatrix}\n",
    "1 & 1 & 2 & 4\\\\ \n",
    "2 & 5 & 8 & 9\\\\ \n",
    "3 & 18 & 29 & 18\\\\\n",
    "4 & 22 & 53 & 33\n",
    "\\end{pmatrix}$$"
   ]
  },
  {
   "cell_type": "markdown",
   "id": "bda0513e",
   "metadata": {},
   "source": [
    "**Решение:**    "
   ]
  },
  {
   "cell_type": "code",
   "execution_count": 14,
   "id": "195c789a",
   "metadata": {},
   "outputs": [],
   "source": [
    "def LU_matrix(a):\n",
    "    num = len(a)\n",
    "    l = np.zeros((num, num))\n",
    "    u = list(a).copy()\n",
    "       \n",
    "    for i in range(num):\n",
    "        l[i][i] = 1\n",
    "        for j in range(i, num-1):\n",
    "            if u[i][i] != 0:\n",
    "                l[j+1][i] = u[j+1][i] / u[i][i]\n",
    "                u[j+1] = u[j+1] - l[j+1][i] * u[i]\n",
    "            else:\n",
    "                continue            \n",
    "    \n",
    "    print(f'L-матрица:\\n {l} \\nU-матрица:\\n {np.array(u)}')\n",
    "    return(l, np.array(u))    "
   ]
  },
  {
   "cell_type": "markdown",
   "id": "12847536",
   "metadata": {},
   "source": [
    "a)"
   ]
  },
  {
   "cell_type": "code",
   "execution_count": 15,
   "id": "13e741be",
   "metadata": {},
   "outputs": [
    {
     "name": "stdout",
     "output_type": "stream",
     "text": [
      "L-матрица:\n",
      " [[1. 0. 0.]\n",
      " [2. 1. 0.]\n",
      " [3. 4. 1.]] \n",
      "U-матрица:\n",
      " [[1. 2. 4.]\n",
      " [0. 5. 4.]\n",
      " [0. 0. 2.]]\n"
     ]
    }
   ],
   "source": [
    "a = np.array([[1, 2, 4], [2, 9, 12], [3, 26, 30]])\n",
    "lu = LU_matrix(a)"
   ]
  },
  {
   "cell_type": "markdown",
   "id": "c92a80ee",
   "metadata": {},
   "source": [
    "б)"
   ]
  },
  {
   "cell_type": "code",
   "execution_count": 16,
   "id": "4ef84919",
   "metadata": {},
   "outputs": [
    {
     "name": "stdout",
     "output_type": "stream",
     "text": [
      "L-матрица:\n",
      " [[1. 0. 0. 0.]\n",
      " [2. 1. 0. 0.]\n",
      " [3. 5. 1. 0.]\n",
      " [4. 6. 7. 1.]] \n",
      "U-матрица:\n",
      " [[1. 1. 2. 4.]\n",
      " [0. 3. 4. 1.]\n",
      " [0. 0. 3. 1.]\n",
      " [0. 0. 0. 4.]]\n"
     ]
    }
   ],
   "source": [
    "a = np.array([[1, 1, 2, 4], [2, 5, 8, 9], [3, 18, 29, 18], [4, 22, 53, 33]])\n",
    "lu = LU_matrix(a)"
   ]
  },
  {
   "cell_type": "markdown",
   "id": "5bc4d212",
   "metadata": {},
   "source": [
    "__3*.__ Решить систему линейных уравнений методом $LU$-разложения\n",
    "\n",
    "$$\\begin{cases}\n",
    "2x_{1}+x_{2}+3x_{3}=1 \\\\\n",
    "11x_{1}+7x_{2}+5x_{3}=-6 \\\\\n",
    "9x_{1}+8x_{2}+4x_{3}=-5\n",
    "\\end{cases}$$"
   ]
  },
  {
   "cell_type": "markdown",
   "id": "bb169c4a",
   "metadata": {},
   "source": [
    "**Решение:**    "
   ]
  },
  {
   "cell_type": "code",
   "execution_count": 17,
   "id": "38727878",
   "metadata": {},
   "outputs": [],
   "source": [
    "def LU_method(a, b, check=False):    \n",
    "    num = len(a)\n",
    "    y = np.zeros(num)\n",
    "    l, u = LU_matrix(a)\n",
    "    status = True\n",
    "    \n",
    "    for i in range(num):\n",
    "        y[i] = b[i]\n",
    "        for j in range(i):\n",
    "            y[i] = y[i] - l[i][j]*y[j]\n",
    "    print(f'y = {y}')\n",
    "    \n",
    "    x = np.zeros(num)\n",
    "    for i in range(num-1, -1, -1):\n",
    "        x[i] = y[i] / u[i][i]\n",
    "        for j in range(num-1, i, -1):\n",
    "            x[i] = x[i] - u[i][j] * x[j] / u[i][i]\n",
    "    \n",
    "    if check:\n",
    "        print('\\nCHECKING...')\n",
    "        eps = 0.005\n",
    "        for i in range(num):\n",
    "            summa = 0\n",
    "            for j in range(num):\n",
    "                summa += a[i][j] * x[j]\n",
    "            if summa - b[i] < eps:\n",
    "                print(f'{i+1} eq status: OK')\n",
    "            else:\n",
    "                print(f'{i+1} eq status: WRONG')\n",
    "                status = False\n",
    "        \n",
    "    if status:\n",
    "        print(f'\\nРешение уравнения: x = {x}')\n",
    "    else:\n",
    "        print('\\nРешено неверно (')\n",
    "    return(x)"
   ]
  },
  {
   "cell_type": "code",
   "execution_count": 18,
   "id": "0974c22b",
   "metadata": {},
   "outputs": [
    {
     "name": "stdout",
     "output_type": "stream",
     "text": [
      "L-матрица:\n",
      " [[1.         0.         0.        ]\n",
      " [5.5        1.         0.        ]\n",
      " [4.5        2.33333333 1.        ]] \n",
      "U-матрица:\n",
      " [[  2.           1.           3.        ]\n",
      " [  0.           1.5        -11.5       ]\n",
      " [  0.           0.          17.33333333]]\n",
      "y = [  1.         -11.5         17.33333333]\n",
      "\n",
      "CHECKING...\n",
      "1 eq status: OK\n",
      "2 eq status: OK\n",
      "3 eq status: OK\n",
      "\n",
      "Решение уравнения: x = [-1.  0.  1.]\n"
     ]
    },
    {
     "data": {
      "text/plain": [
       "array([-1.,  0.,  1.])"
      ]
     },
     "execution_count": 18,
     "metadata": {},
     "output_type": "execute_result"
    }
   ],
   "source": [
    "a = np.array([[2, 1, 3], [11, 7, 5], [9, 8, 4]])\n",
    "b = np.array([1, -6, -5])\n",
    "LU_method(a, b, check=True)"
   ]
  },
  {
   "cell_type": "markdown",
   "id": "48bab3b7",
   "metadata": {},
   "source": [
    "__4*.__ Решить систему линейных уравнений методом Холецкого\n",
    "\n",
    "$$\\begin{cases}\n",
    "81x_{1}-45x_{2}+45x_{3}=531 \\\\\n",
    "-45x_{1}+50x_{2}-15x_{3}=-460 \\\\\n",
    "45x_{1}-15x_{2}+38x_{3}=193\n",
    "\\end{cases}$$"
   ]
  },
  {
   "cell_type": "markdown",
   "id": "18afa216",
   "metadata": {},
   "source": [
    "**Решение:** "
   ]
  },
  {
   "cell_type": "code",
   "execution_count": 19,
   "id": "5902d6c3",
   "metadata": {},
   "outputs": [],
   "source": [
    "a = np.array([[81, -45, 45], [-45, 50, -15], [45, -15, 38]])\n",
    "b = np.array([531, -460, 193])"
   ]
  },
  {
   "cell_type": "code",
   "execution_count": 20,
   "id": "5fc8ad6e",
   "metadata": {},
   "outputs": [
    {
     "data": {
      "text/plain": [
       "array([[ 9.,  0.,  0.],\n",
       "       [-5.,  5.,  0.],\n",
       "       [ 5.,  2.,  3.]])"
      ]
     },
     "execution_count": 20,
     "metadata": {},
     "output_type": "execute_result"
    }
   ],
   "source": [
    "from scipy.linalg import cholesky\n",
    "L = cholesky(a, lower=True)\n",
    "L"
   ]
  },
  {
   "cell_type": "code",
   "execution_count": 21,
   "id": "59cd6554",
   "metadata": {},
   "outputs": [],
   "source": [
    "def cholesky_method(a, b, check=False):    \n",
    "    num = len(a)\n",
    "    y = np.zeros(num)\n",
    "    l = cholesky(a, lower=True)\n",
    "    u = l.T\n",
    "    status = True\n",
    "    \n",
    "    for i in range(num):\n",
    "        y[i] = b[i] / l[i][i]\n",
    "        for j in range(i):\n",
    "            y[i] = y[i] - l[i][j]*y[j] / l[i][i]\n",
    "    print(f'y = {y}')\n",
    "    \n",
    "    x = np.zeros(num)\n",
    "    for i in range(num-1, -1, -1):\n",
    "        x[i] = y[i] / u[i][i]\n",
    "        for j in range(num-1, i, -1):\n",
    "            x[i] = x[i] - u[i][j] * x[j] / u[i][i]\n",
    "    \n",
    "    if check:\n",
    "        print('\\nCHECKING...')\n",
    "        eps = 0.005\n",
    "        for i in range(num):\n",
    "            summa = 0\n",
    "            for j in range(num):\n",
    "                summa += a[i][j] * x[j]\n",
    "            if summa - b[i] < eps:\n",
    "                print(f'{i+1} eq status: OK')\n",
    "            else:\n",
    "                print(f'{i+1} eq status: WRONG')\n",
    "                status = False\n",
    "        \n",
    "    if status:\n",
    "        print(f'\\nРешение уравнения: x = {x}')\n",
    "    else:\n",
    "        print(f'\\nРешено неверно ( x = {x}')\n",
    "    return(x)"
   ]
  },
  {
   "cell_type": "code",
   "execution_count": 22,
   "id": "d9d52ffa",
   "metadata": {},
   "outputs": [
    {
     "name": "stdout",
     "output_type": "stream",
     "text": [
      "y = [ 59. -33. -12.]\n",
      "\n",
      "CHECKING...\n",
      "1 eq status: OK\n",
      "2 eq status: OK\n",
      "3 eq status: OK\n",
      "\n",
      "Решение уравнения: x = [ 6. -5. -4.]\n"
     ]
    },
    {
     "data": {
      "text/plain": [
       "array([ 6., -5., -4.])"
      ]
     },
     "execution_count": 22,
     "metadata": {},
     "output_type": "execute_result"
    }
   ],
   "source": [
    "cholesky_method(a, b, check=True)"
   ]
  },
  {
   "cell_type": "code",
   "execution_count": 23,
   "id": "aa035e7e",
   "metadata": {},
   "outputs": [
    {
     "name": "stdout",
     "output_type": "stream",
     "text": [
      "L-матрица:\n",
      " [[ 1.          0.          0.        ]\n",
      " [-0.55555556  1.          0.        ]\n",
      " [ 0.55555556  0.4         1.        ]] \n",
      "U-матрица:\n",
      " [[ 81. -45.  45.]\n",
      " [  0.  25.  10.]\n",
      " [  0.   0.   9.]]\n",
      "y = [ 531. -165.  -36.]\n",
      "\n",
      "CHECKING...\n",
      "1 eq status: OK\n",
      "2 eq status: OK\n",
      "3 eq status: OK\n",
      "\n",
      "Решение уравнения: x = [ 6. -5. -4.]\n"
     ]
    },
    {
     "data": {
      "text/plain": [
       "array([ 6., -5., -4.])"
      ]
     },
     "execution_count": 23,
     "metadata": {},
     "output_type": "execute_result"
    }
   ],
   "source": [
    "LU_method(a, b, check=True)"
   ]
  },
  {
   "cell_type": "markdown",
   "id": "53e30db4",
   "metadata": {},
   "source": [
    "__5*.__ Написать на Python программу с реализацией одного из изученных алгоритмов решения СЛАУ."
   ]
  },
  {
   "cell_type": "markdown",
   "id": "6b5bb60c",
   "metadata": {},
   "source": [
    "**Решение:** "
   ]
  },
  {
   "cell_type": "code",
   "execution_count": 24,
   "id": "44aede37",
   "metadata": {},
   "outputs": [],
   "source": [
    "def LU_matrix(a):\n",
    "    num = len(a)\n",
    "    l = np.zeros((num, num))\n",
    "    u = list(a).copy()\n",
    "       \n",
    "    for i in range(num):\n",
    "        l[i][i] = 1\n",
    "        for j in range(i, num-1):\n",
    "            if u[i][i] != 0:\n",
    "                l[j+1][i] = u[j+1][i] / u[i][i]\n",
    "                u[j+1] = u[j+1] - l[j+1][i] * u[i]\n",
    "            else:\n",
    "                continue            \n",
    "    \n",
    "    print(f'L-матрица:\\n {l} \\nU-матрица:\\n {np.array(u)}')\n",
    "    return(l, np.array(u))  \n",
    "\n",
    "\n",
    "def LU_method(a, b, check=False):    \n",
    "    num = len(a)\n",
    "    y = np.zeros(num)\n",
    "    l, u = LU_matrix(a)\n",
    "    status = True\n",
    "    \n",
    "    for i in range(num):\n",
    "        y[i] = b[i]\n",
    "        for j in range(i):\n",
    "            y[i] = y[i] - l[i][j]*y[j]\n",
    "    print(f'y = {y}')\n",
    "    \n",
    "    x = np.zeros(num)\n",
    "    for i in range(num-1, -1, -1):\n",
    "        x[i] = y[i] / u[i][i]\n",
    "        for j in range(num-1, i, -1):\n",
    "            x[i] = x[i] - u[i][j] * x[j] / u[i][i]\n",
    "    \n",
    "    if check:\n",
    "        print('\\nCHECKING...')\n",
    "        eps = 0.005\n",
    "        for i in range(num):\n",
    "            summa = 0\n",
    "            for j in range(num):\n",
    "                summa += a[i][j] * x[j]\n",
    "            if summa - b[i] < eps:\n",
    "                print(f'{i+1} eq status: OK')\n",
    "            else:\n",
    "                print(f'{i+1} eq status: WRONG')\n",
    "                status = False\n",
    "        \n",
    "    if status:\n",
    "        print(f'\\nРешение уравнения: x = {x}')\n",
    "    else:\n",
    "        print('\\nРешено неверно (')\n",
    "    return(x)"
   ]
  },
  {
   "cell_type": "markdown",
   "id": "96e3995c",
   "metadata": {},
   "source": [
    "Проверка на основе примера из лекции:"
   ]
  },
  {
   "cell_type": "code",
   "execution_count": 25,
   "id": "af78d58b",
   "metadata": {},
   "outputs": [
    {
     "name": "stdout",
     "output_type": "stream",
     "text": [
      "L-матрица:\n",
      " [[ 1.  0.  0.]\n",
      " [ 2.  1.  0.]\n",
      " [-1. -1.  1.]] \n",
      "U-матрица:\n",
      " [[ 2.  1. -1.]\n",
      " [ 0. -8.  0.]\n",
      " [ 0.  0. -4.]]\n",
      "y = [  5. -12.   0.]\n",
      "\n",
      "CHECKING...\n",
      "1 eq status: OK\n",
      "2 eq status: OK\n",
      "3 eq status: OK\n",
      "\n",
      "Решение уравнения: x = [ 1.75  1.5  -0.  ]\n"
     ]
    },
    {
     "data": {
      "text/plain": [
       "array([ 1.75,  1.5 , -0.  ])"
      ]
     },
     "execution_count": 25,
     "metadata": {},
     "output_type": "execute_result"
    }
   ],
   "source": [
    "a = np.array([[2, 1, -1], [4, -6, -2], [-2, 7, -3]])\n",
    "b = np.array([5, -2, 7])\n",
    "LU_method(a, b, check=True)"
   ]
  },
  {
   "cell_type": "code",
   "execution_count": 26,
   "id": "952166c8",
   "metadata": {},
   "outputs": [
    {
     "name": "stdout",
     "output_type": "stream",
     "text": [
      "L-матрица:\n",
      " [[1. 0. 0.]\n",
      " [2. 1. 0.]\n",
      " [3. 1. 1.]] \n",
      "U-матрица:\n",
      " [[ 1. -1.  2.]\n",
      " [ 0.  3. -7.]\n",
      " [ 0.  0.  3.]]\n",
      "y = [0. 0. 0.]\n",
      "\n",
      "CHECKING...\n",
      "1 eq status: OK\n",
      "2 eq status: OK\n",
      "3 eq status: OK\n",
      "\n",
      "Решение уравнения: x = [0. 0. 0.]\n"
     ]
    },
    {
     "data": {
      "text/plain": [
       "array([0., 0., 0.])"
      ]
     },
     "execution_count": 26,
     "metadata": {},
     "output_type": "execute_result"
    }
   ],
   "source": [
    "a = np.array([[1, -1, 2], [2, 1, -3], [3, 0, 2]])\n",
    "b = np.array([0, 0, 0])\n",
    "LU_method(a, b, check=True)"
   ]
  }
 ],
 "metadata": {
  "kernelspec": {
   "display_name": "Python 3",
   "language": "python",
   "name": "python3"
  },
  "language_info": {
   "codemirror_mode": {
    "name": "ipython",
    "version": 3
   },
   "file_extension": ".py",
   "mimetype": "text/x-python",
   "name": "python",
   "nbconvert_exporter": "python",
   "pygments_lexer": "ipython3",
   "version": "3.8.8"
  }
 },
 "nbformat": 4,
 "nbformat_minor": 5
}
